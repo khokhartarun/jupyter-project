{
 "cells": [
  {
   "cell_type": "code",
   "execution_count": null,
   "id": "a48d60bc-3059-414f-a14a-e75225f83d3f",
   "metadata": {},
   "outputs": [],
   "source": [
    "a=2\n",
    "b=3\n",
    "c=a+b\n",
    "print(a+b)\n",
    "\n",
    "\n"
   ]
  },
  {
   "cell_type": "code",
   "execution_count": null,
   "id": "79053c5c-11d9-4861-bacc-71e3d26b59e3",
   "metadata": {},
   "outputs": [],
   "source": [
    "# user input \n",
    "a=int(input(\"enter the value of  A:\"))\n",
    "b=int(input(\"enter the value of B:\"))\n",
    "c=a+b/b-a\n",
    "print('c')\n",
    "a=int(input(\"enter the value of A:\"))\n",
    "b=286\n",
    "c=int(input(\"enter the value of B:\"))\n",
    "d=a+286\n",
    "e=b+a\n",
    "f=a+b+c*d/b+a\n",
    "if(a+b>b-a):\n",
    "      print(\"thanks for using\")\n",
    "print(f)     "
   ]
  },
  {
   "cell_type": "code",
   "execution_count": null,
   "id": "decae868",
   "metadata": {},
   "outputs": [],
   "source": [
    "# user input \n",
    "a=int(input(\"enter the value of A:\"))\n",
    "b=int(input(\"enter the value of B:\"))\n",
    "c=a+225\n",
    "d=b+231\n",
    "d=a+b-c+d\n",
    "print(c)\n"
   ]
  },
  {
   "cell_type": "code",
   "execution_count": null,
   "id": "073b48c6",
   "metadata": {},
   "outputs": [],
   "source": [
    "# user input with if else statement \n",
    "t=input( \" enter the value of   HUMAN : \")\n",
    "\n",
    "if(\"t= hello \"):\n",
    "      print ( \" hyy kaise ho aap \")\n",
    "      \n",
    "\n",
    "elif(\"t=i am fine how are you \"):\n",
    "      print (\" mai theek hu , btao mai aapki kaise help kr skta hu \")   \n",
    "\n",
    "elif(\"t= aapka naam kya hai \"):\n",
    "      print ( \" mera naam to tarun hai \") \n",
    "else :\n",
    "      print ( \" better luck for next time \")        \n"
   ]
  },
  {
   "cell_type": "code",
   "execution_count": null,
   "id": "31ffd794",
   "metadata": {},
   "outputs": [],
   "source": [
    "print(\"Welcome to the Simple Chat Bot!\")\n",
    "\n",
    "while True:\n",
    "    user_input = input(\"You: \")\n",
    "\n",
    "    # Check for different user inputs and respond accordingly\n",
    "    if user_input.lower() == \"hi\" or user_input.lower() == \"hello\":\n",
    "        print(\"Bot: Hi there!\")\n",
    "    elif user_input.lower() == \"how are you?\":\n",
    "        print(\"Bot: I'm just a bot, but I'm doing well! How can I help you?\")\n",
    "    elif user_input.lower() == \"bye\":\n",
    "        print(\"Bot: Goodbye!\")\n",
    "        break  # Exit the loop\n",
    "    else:\n",
    "        print(\"Bot: I'm not sure I understand. Can you ask something else?\")\n"
   ]
  },
  {
   "cell_type": "code",
   "execution_count": null,
   "id": "982a913f",
   "metadata": {},
   "outputs": [],
   "source": [
    "# simple while loop \n",
    "a=283 \n",
    "b=387\n",
    "c=1000\n",
    "\n",
    "while   c>=a+b :\n",
    "  print(a+b)\n",
    "print(\"bye \")\n",
    "\n",
    "# running success fully \n",
    "\n"
   ]
  },
  {
   "cell_type": "code",
   "execution_count": null,
   "id": "ea160508",
   "metadata": {},
   "outputs": [],
   "source": [
    "# whilw loop with user input \n",
    "a=int(input( \" A:\"))\n",
    "b=int(input( \" B:\"))\n",
    "c=2285\n",
    "while c>=a+b :\n",
    "    print(\"this is correct\" )\n",
    "print(\"try again\") \n",
    "    # here we take input greater then 2285 so it will show try again\n",
    " # successfully worked \n"
   ]
  },
  {
   "cell_type": "code",
   "execution_count": null,
   "id": "8a892e9d",
   "metadata": {},
   "outputs": [],
   "source": [
    "a=int(input(\"Enter the vale of A :\"))\n",
    "b=int(input(\" enter the value of B :\"))\n",
    "c=a+2*b/8*a-b\n",
    "if c==1000:\n",
    "    print(\" budhubanaya mja aaya \")\n",
    "else :\n",
    "    print(c)"
   ]
  },
  {
   "cell_type": "code",
   "execution_count": null,
   "id": "05648a60",
   "metadata": {},
   "outputs": [],
   "source": [
    "#try to use while loop \n",
    "a= int(input( \" enter the value of A :\"))\n",
    "b=int(input(\"enter the value of B:\"))\n",
    "c=a+2*b/8*a-b\n",
    "c>2000\n",
    "while True :\n",
    "    print (\" this is true \")\n",
    "    \n",
    "if a.lower == (b) :\n",
    "    print(\" this is okay\")    # without break statement \n",
    "elif a+b.lower == c-234 :\n",
    "    print (\" okay\")\n",
    "\n",
    "else:\n",
    "    print ( \" c\")  \n",
    "\n",
    "    print(c)\n",
    "    "
   ]
  },
  {
   "cell_type": "code",
   "execution_count": null,
   "id": "3c828793",
   "metadata": {},
   "outputs": [],
   "source": [
    "\n",
    "\n",
    "a=int(input( \"A:\"))\n",
    "b=int(input(\" B:\"))\n",
    "c=a+3*b\n",
    "while True:\n",
    "    if c<200\n",
    "        a=(input(\"A:\"))\n",
    "        b=(input(\"B:\"))\n",
    "        print(a+b)\n",
    "    elif b=='B':\n",
    "           \n",
    "        print(\"bye\")   \n",
    "        break\n",
    "else:\n",
    "        print('good')    "
   ]
  },
  {
   "cell_type": "code",
   "execution_count": null,
   "id": "03db30d7",
   "metadata": {},
   "outputs": [],
   "source": [
    "# for loop \n",
    "for i in range(19):\n",
    "  print(i)\n",
    "\n",
    "tarun = (\"amit\")\n",
    "\n",
    "for amit in tarun:\n",
    "  print(tarun)"
   ]
  },
  {
   "cell_type": "code",
   "execution_count": null,
   "id": "72eef16a",
   "metadata": {},
   "outputs": [],
   "source": [
    "# use of for loop with some example \n",
    "montu=[12,34,\"tarun,amit,sumit,vikas\",23.0,60]\n",
    "for num in montu:\n",
    "    print(montu)"
   ]
  },
  {
   "cell_type": "code",
   "execution_count": null,
   "id": "eaea0841",
   "metadata": {},
   "outputs": [],
   "source": [
    "numbers = [1, 2, 3, 4, 5]\n",
    "for num in numbers:\n",
    "    print(numbers)\n"
   ]
  },
  {
   "cell_type": "code",
   "execution_count": null,
   "id": "32e1a5f9",
   "metadata": {},
   "outputs": [],
   "source": [
    "matrix = [[1, 2, 3], [4, 5, 6], [7, 8, 9]]\n",
    "for column in matrix:\n",
    "    for martix in column:\n",
    "        print(column)\n",
    "\n",
    "\n",
    "tbl=[[1,2,3],[15,12,50],[18,12,45]]\n",
    "for num12 in tbl :\n",
    "    print(tbl)\n"
   ]
  },
  {
   "cell_type": "code",
   "execution_count": null,
   "id": "c1aa6f5b",
   "metadata": {},
   "outputs": [],
   "source": [
    "# Define the size of the multiplication table\n",
    "table_size = 20\n",
    "\n",
    "# Create a multiplication table using nested for loops\n",
    "for i in range(1, table_size + 1):\n",
    "    for j in range(1, table_size + 1):\n",
    "        # Calculate and print the product of i and j\n",
    "        product = i * j\n",
    "        print(f\"{i} x {j} = {product}\\t\", end=\"\")\n",
    "    print()  # Move to the next line after each row\n"
   ]
  },
  {
   "cell_type": "code",
   "execution_count": null,
   "id": "95635dec",
   "metadata": {},
   "outputs": [],
   "source": [
    "table_size=11\n",
    "for i in range (1,table_size,+1):\n",
    "    for j in range (1,table_size,+1):\n",
    "        product=i*j\n",
    "        print(f\"{i} x {j} = {product}\\t\", end=\"\")\n",
    "    print()"
   ]
  },
  {
   "cell_type": "markdown",
   "id": "9c669d44",
   "metadata": {},
   "source": [
    "# String "
   ]
  },
  {
   "cell_type": "code",
   "execution_count": null,
   "id": "46cc8bd8",
   "metadata": {},
   "outputs": [],
   "source": [
    "# use of string \n",
    "# we can store any type of value in string by using of (\"\", '') \n",
    "school= (\"'Tarun ','amit','sumit', '94.267'\")\n",
    "print(type(school))\n",
    "if 'Trun' in school:\n",
    "    print(\"find\")\n",
    "    print('tarun')\n",
    "else:\n",
    "  print(\"Record not find\")"
   ]
  },
  {
   "cell_type": "code",
   "execution_count": null,
   "id": "a456f880",
   "metadata": {},
   "outputs": [],
   "source": [
    "# string slicing \n",
    "#print te particular part of strng\n",
    "Stri=\"class,rollno , school , student name , teacher name\"\n",
    "print(Stri [:10])\n",
    "print(Stri[-10])\n",
    "print(Stri[2:20])"
   ]
  },
  {
   "cell_type": "code",
   "execution_count": null,
   "id": "53bfba41",
   "metadata": {},
   "outputs": [],
   "source": [
    "# built in functions of string\n",
    "Str='tarun','mohit','jonu','deepanshu'\n",
    "x= Str.count('tarun')\n",
    "print(x)"
   ]
  },
  {
   "cell_type": "code",
   "execution_count": null,
   "id": "7e28d1c0",
   "metadata": {},
   "outputs": [],
   "source": [
    "#string updating and slicing using conditional statements \n",
    "tarun=\"age ,dob,place,location,father name , mother name , total family mamber \"\n",
    "print(type(tarun))\n",
    "print(\"Slicing:\", tarun[:30] )\n",
    "if 'sister' in tarun :\n",
    "    print(\" record found\")\n",
    "    print(\"sister\")\n",
    "else :\n",
    "    print(\"Update string :\",tarun[:]+\",sister\")  \n",
    "print(\"string  update successfully\")      "
   ]
  },
  {
   "cell_type": "code",
   "execution_count": null,
   "id": "5a3e78da",
   "metadata": {},
   "outputs": [],
   "source": [
    "L1 = [1,2,3,4,5,6,7,8,'tarun','amit','sumit','tarun']\n",
    "print(L1)\n",
    "x=L1.count('tarun')\n",
    "print(x)"
   ]
  },
  {
   "cell_type": "code",
   "execution_count": null,
   "id": "d07332a7",
   "metadata": {},
   "outputs": [],
   "source": [
    "# list constructor \n",
    "L1=list(('tarun','amit','sumit','mohit'))\n",
    "print(L1)"
   ]
  },
  {
   "cell_type": "code",
   "execution_count": null,
   "id": "2880b9e5",
   "metadata": {},
   "outputs": [],
   "source": [
    "# slicing in list \n",
    "tarun=[12,34,56,2,3,3,4,5,6,11,5,6,'amit', 'sumit' ]\n",
    "x=tarun.count(5)\n",
    "print('Slicing are:',tarun[-8:])\n",
    "print(x)"
   ]
  },
  {
   "cell_type": "code",
   "execution_count": null,
   "id": "a726d098",
   "metadata": {},
   "outputs": [],
   "source": [
    "# Create a list with integers and characters\n",
    "mixed_list = [1, 'a', 2, 'b', 3, 'c']\n",
    "\n",
    "# Separate integers and characters\n",
    "integers = [item for item in mixed_list if isinstance(item, int)]\n",
    "characters = [item for item in mixed_list if isinstance(item, str)]\n",
    "\n",
    "# Print the results\n",
    "print(\"Integers:\", integers)\n",
    "print(\"Characters:\", characters)\n"
   ]
  },
  {
   "cell_type": "code",
   "execution_count": null,
   "id": "21b2d47b",
   "metadata": {},
   "outputs": [],
   "source": [
    "print(0xA+0xB+0xC)"
   ]
  },
  {
   "cell_type": "code",
   "execution_count": null,
   "id": "a9c9e48e",
   "metadata": {},
   "outputs": [],
   "source": [
    "# touple \n",
    "a=('tarun', 'mohit',5,10,50,50.4)   #this is a touple \n",
    "print(type(a))"
   ]
  },
  {
   "cell_type": "code",
   "execution_count": null,
   "id": "abb3828d",
   "metadata": {},
   "outputs": [],
   "source": [
    "# dictonary\n",
    "#creating a dictonary\n",
    "tarun ={ 1:\"name\", 2: \" village\", 3: \"date of birth\"}\n",
    "#check the type of dictonary \n",
    "\n",
    "print(type(tarun))\n"
   ]
  },
  {
   "cell_type": "code",
   "execution_count": null,
   "id": "3b748db5",
   "metadata": {},
   "outputs": [],
   "source": [
    "# to store multiple value in a key \n",
    "# by using list \n",
    "school = { 1: \"teacher\",2: \"student\",3 : \"syllabys\", 'f':['amit','sumit','ajay','ijay']}  # this is the example of dictonar with list\n",
    "\n",
    "print(school)"
   ]
  },
  {
   "cell_type": "code",
   "execution_count": null,
   "id": "228d7dee",
   "metadata": {},
   "outputs": [],
   "source": [
    "#dictnary using if else conditional statement \n",
    "dict = {1:'mom',2 :'dad' ,4 :'sister',5 : 'me'}\n",
    "if 'me' in dict:\n",
    "    print(2)\n",
    "else:\n",
    "    print(\"not found\")\n"
   ]
  },
  {
   "cell_type": "code",
   "execution_count": null,
   "metadata": {},
   "outputs": [],
   "source": [
    "# Extracting month and year from the timestamp\n",
    "df['Month'] = df['timestamp'].dt.month\n",
    "df['Year'] = df['timestamp'].dt.year\n",
    "\n",
    "# Grouping data by month and aggregating the total sales\n",
    "monthly_sales = df.groupby(['Year', 'Month'])['total_sales'].sum().reset_index()\n",
    "\n",
    "# Creating a time series plot\n",
    "plt.figure(figsize=(12, 6))\n",
    "plt.plot(monthly_sales['Year'].astype(str) + '-' + monthly_sales['Month'].astype(str), monthly_sales['total_sales'], marker='o')\n",
    "plt.xlabel('Month')\n",
    "plt.ylabel('Total Sales')\n",
    "plt.title('Monthly Total Sales Over Time')\n",
    "plt.xticks(rotation=45)\n",
    "plt.show()"
   ]
  },
  {
   "cell_type": "code",
   "execution_count": null,
   "id": "11fd940d",
   "metadata": {},
   "outputs": [],
   "source": [
    "import matplotlib.pyplot as plt\n",
    "import seaborn as sns\n",
    "# Calculate product category correlation matrix\n",
    "correlation_matrix = df_product_categories.corr()\n",
    "# Create a heatmap\n",
    "plt.figure(figsize=(10, 8))\n",
    "sns.heatmap(correlation_matrix, annot=True, cmap='coolwarm', fmt=\".2f\", linewidths=.5)\n",
    "plt.title('Product Category Correlation Heatmap')\n",
    "plt.show()\n",
    "# Extracting month and year from the timestamp\n",
    "df['Month'] = df['timestamp'].dt.month\n",
    "df['Year'] = df['timestamp'].dt.year\n",
    "\n",
    "# Grouping data by month and aggregating the total sales\n",
    "monthly_sales = df.groupby(['Year', 'Month'])['total_sales'].sum().reset_index()\n",
    "\n",
    "# Creating a time series plot\n",
    "plt.figure(figsize=(12, 6))\n",
    "plt.plot(monthly_sales['Year'].astype(str) + '-' + monthly_sales['Month'].astype(str), monthly_sales['total_sales'], marker='o')\n",
    "plt.xlabel('Month')\n",
    "plt.ylabel('Total Sales')\n",
    "plt.title('Monthly Total Sales Over Time')\n",
    "plt.xticks(rotation=45)\n",
    "plt.show()\n",
    "plt.figure(figsize=(10, 8))\n",
    "plt.scatter(df['Age'], df['Total_Purchases'], c=df['Gender'].map({'Male': 'blue', 'Female': 'pink'}), alpha=0.5)\n",
    "plt.title('Customer Segmentation based on Age and Total Purchases')\n",
    "plt.xlabel('Age')\n",
    "plt.ylabel('Total Purchases')\n",
    "plt.legend(['Male', 'Female'])\n",
    "plt.show()"
   ]
  },
  {
   "cell_type": "code",
   "execution_count": null,
   "id": "d71db198",
   "metadata": {},
   "outputs": [],
   "source": [
    "#length of the string \n",
    "school= \" tarun kumar \"  // # here we find the lemgth of a string by using len function \n",
    "print(len(school))"
   ]
  },
  {
   "cell_type": "code",
   "execution_count": null,
   "id": "19e3b366",
   "metadata": {},
   "outputs": [],
   "source": [
    "# write a python program to access each element of a string on forward and revearse order by using while loopp \n",
    "\n",
    "str = \" Tarun Kumar \" # this is a string \n",
    "\n",
    "# access each character using while loop \n",
    "n= len(str)  # n= no of character in str \n",
    "i=0\n",
    "while i<n:\n",
    "    print(str[i], end='')\n",
    "    i+=1\n",
    "print()\n",
    "# access revese of string \n",
    "i=-1\n",
    "while i>=-n:\n",
    "        print(str[i],end='')\n",
    "        i-=1\n",
    "# access in reversr order using negative indexing \n",
    "i=1\n",
    "n= len(str)\n",
    "while i<=n :\n",
    "    print(str[-1], end ='')\n",
    "    i+=1            "
   ]
  },
  {
   "cell_type": "code",
   "execution_count": null,
   "id": "9c5044da",
   "metadata": {},
   "outputs": [],
   "source": [
    "# dictonary \n",
    "#collection of python which works on keys and pair value\n",
    "#create a dictonary \n",
    "school = { 1:'teacher',2:'student',3:'parents',4:'bus driver'} \n",
    "print(type(school))   # use of type function "
   ]
  },
  {
   "cell_type": "code",
   "execution_count": null,
   "id": "f1986d5b",
   "metadata": {},
   "outputs": [],
   "source": [
    "# store multiple values in single valve ( dictonary )\n",
    "lang2= { 1: 'english' ,2: 'hindi', 3: 'hinglish', 'computer lang':['python', 'java','c','c++'] } \n",
    "\n",
    "# by adding list in dictonary \n",
    "print(lang2)\n"
   ]
  },
  {
   "cell_type": "code",
   "execution_count": null,
   "id": "7093627d",
   "metadata": {},
   "outputs": [],
   "source": [
    "# access the value of dictonary \n",
    "# basic counting of college staff and student by using access method\n",
    "\n",
    "maturam = { ' teacher': 25 ,\n",
    "           'student in cse ': 200 ,\n",
    "           'student in mech ': 80 ,\n",
    "           'student in ece ': 100}     # ther are some sample data of a college \n",
    "# access the value by using key \n",
    "father = maturam\n",
    "for index, mark in enumerate (maturam , start= 1):\n",
    " print(father)"
   ]
  },
  {
   "cell_type": "code",
   "execution_count": null,
   "id": "898c4304",
   "metadata": {},
   "outputs": [],
   "source": [
    "# short hand if else statement \n",
    "a= 389\n",
    "b= 560\n",
    "print(\"A\") if a > b else print (\"=\") if a==b else print(\"B\")"
   ]
  },
  {
   "cell_type": "code",
   "execution_count": null,
   "id": "dbbfbc4b",
   "metadata": {},
   "outputs": [],
   "source": [
    " # enumerate function \n",
    "student = [20 ,37,82,18,11,9 , 99]\n",
    "\n",
    "for index, mark in enumerate( student , start= 1) :\n",
    "    print(mark)\n",
    "    if ( index ==3 ):\n",
    "        print (\"index found\")\n",
    "\n"
   ]
  },
  {
   "cell_type": "code",
   "execution_count": null,
   "id": "8b0153e9",
   "metadata": {},
   "outputs": [],
   "source": [
    "# function in python\n",
    "def calculategemean(a,b): \n",
    "    mean= ( a*b)/(a+b)\n",
    "    print(mean)\n",
    "def isgreater(a,b):   \n",
    "    if(a>b):\n",
    "     print(\" Frist number is greater \")\n",
    "    else :\n",
    "     print( \" Second number is greater\")  \n",
    "def isgreater(a,b):\n",
    " a= 300 \n",
    " b = 400\n",
    "calculategemean(a,b)"
   ]
  },
  {
   "cell_type": "code",
   "execution_count": null,
   "id": "55ba284a",
   "metadata": {},
   "outputs": [],
   "source": [
    "\n"
   ]
  },
  {
   "cell_type": "code",
   "execution_count": null,
   "id": "37f64c71",
   "metadata": {},
   "outputs": [],
   "source": [
    "import numpy as np \n",
    "import pandas as pd \n",
    "school = { \n",
    "    \"name\" : [ \" tarun \" , \" deepanshu\" , \" tushar \", \" granth \"] ,\n",
    "    \" marks\" : [ 80 , 77, 67, 75 ],\n",
    "    \" address\" : [ \"kansala \", \"tilak nagar \", \"sec 14 \", \"khrkhoda\"]\n",
    "           \n",
    "}\n",
    "df=pd.DataFrame(school)\n"
   ]
  },
  {
   "cell_type": "code",
   "execution_count": null,
   "id": "7619a6ad",
   "metadata": {},
   "outputs": [],
   "source": [
    "# read csv file from our computer \n",
    "import pandas as pd \n",
    "import numpy as np\n",
    "tarun = pd.read_csv('data.csv')  # to read data \n",
    "tarun['Order ID'] # print the order id from the \n",
    "pd.head(10)\n",
    "pd.tail(10)\n",
    "\n",
    "\n"
   ]
  },
  {
   "cell_type": "code",
   "execution_count": null,
   "id": "16b66ae7",
   "metadata": {},
   "outputs": [],
   "source": [
    "import pandas as pd\n",
    "import numpy as np \n",
    "data=pd.read_csv('data.csv')\n",
    "df=pd.DataFrame(data)\n",
    "data\n",
    "df.tail(20) # to print the last 20 rows from data \n",
    "df.describe# to find the mean mode median of all the given data \n",
    "df.dtypes # use to print the total no of data types which are used in given data \n",
    "df.index # use to count the total no of items or rows into the data \n",
    "df.columns # use to count the total no of items or columns into the data\n",
    "df.to_numpy() # use to convert dataframe to numpy array\n",
    "df.T  # use to transform the data \n",
    "df.sort_index(axis=0, ascending= False) # use to reverse sort\n",
    "# here axis=0 is known as rows \n",
    "# and axis =1 ia kmown as column \n",
    " \n",
    "\n"
   ]
  },
  {
   "cell_type": "code",
   "execution_count": null,
   "id": "cbf8ede9",
   "metadata": {},
   "outputs": [],
   "source": []
  }
 ],
 "metadata": {
  "kernelspec": {
   "display_name": "Python 3",
   "language": "python",
   "name": "python3"
  },
  "language_info": {
   "codemirror_mode": {
    "name": "ipython",
    "version": 3
   },
   "file_extension": ".py",
   "mimetype": "text/x-python",
   "name": "python",
   "nbconvert_exporter": "python",
   "pygments_lexer": "ipython3",
   "version": "3.11.9"
  }
 },
 "nbformat": 4,
 "nbformat_minor": 5
}
