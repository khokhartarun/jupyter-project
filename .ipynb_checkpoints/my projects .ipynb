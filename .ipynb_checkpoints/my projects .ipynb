{
 "cells": [
  {
   "cell_type": "code",
   "execution_count": 13,
   "id": "a48d60bc-3059-414f-a14a-e75225f83d3f",
   "metadata": {},
   "outputs": [],
   "source": [
    "a=2\n",
    "b=3\n",
    "c=a+b\n",
    "print(a+b)\n",
    "\n",
    "\n"
   ]
  },
  {
   "cell_type": "code",
   "execution_count": 9,
   "id": "79053c5c-11d9-4861-bacc-71e3d26b59e3",
   "metadata": {},
   "outputs": [
    {
     "ename": "ValueError",
     "evalue": "invalid literal for int() with base 10: ''",
     "output_type": "error",
     "traceback": [
      "\u001b[1;31m---------------------------------------------------------------------------\u001b[0m",
      "\u001b[1;31mValueError\u001b[0m                                Traceback (most recent call last)",
      "Cell \u001b[1;32mIn[9], line 2\u001b[0m\n\u001b[0;32m      1\u001b[0m \u001b[38;5;66;03m# user input \u001b[39;00m\n\u001b[1;32m----> 2\u001b[0m a\u001b[38;5;241m=\u001b[39m\u001b[38;5;28;43mint\u001b[39;49m\u001b[43m(\u001b[49m\u001b[38;5;28;43minput\u001b[39;49m\u001b[43m(\u001b[49m\u001b[38;5;124;43m\"\u001b[39;49m\u001b[38;5;124;43menter the value of  A:\u001b[39;49m\u001b[38;5;124;43m\"\u001b[39;49m\u001b[43m)\u001b[49m\u001b[43m)\u001b[49m\n\u001b[0;32m      3\u001b[0m b\u001b[38;5;241m=\u001b[39m\u001b[38;5;28mint\u001b[39m(\u001b[38;5;28minput\u001b[39m(\u001b[38;5;124m\"\u001b[39m\u001b[38;5;124menter the value of B:\u001b[39m\u001b[38;5;124m\"\u001b[39m))\n\u001b[0;32m      4\u001b[0m c\u001b[38;5;241m=\u001b[39ma\u001b[38;5;241m+\u001b[39mb\u001b[38;5;241m/\u001b[39mb\u001b[38;5;241m-\u001b[39ma\n",
      "\u001b[1;31mValueError\u001b[0m: invalid literal for int() with base 10: ''"
     ]
    }
   ],
   "source": [
    "# user input \n",
    "a=int(input(\"enter the value of  A:\"))\n",
    "b=int(input(\"enter the value of B:\"))\n",
    "c=a+b/b-a\n",
    "print('c')\n",
    "a=int(input(\"enter the value of A:\"))\n",
    "b=286\n",
    "c=int(input(\"enter the value of B:\"))\n",
    "d=a+286\n",
    "e=b+a\n",
    "f=a+b+c*d/b+a\n",
    "if(a+b>b-a):\n",
    "      print(\"thanks for using\")\n",
    "print(f)     "
   ]
  },
  {
   "cell_type": "code",
   "execution_count": 13,
   "id": "decae868",
   "metadata": {},
   "outputs": [
    {
     "ename": "ValueError",
     "evalue": "invalid literal for int() with base 10: ''",
     "output_type": "error",
     "traceback": [
      "\u001b[1;31m---------------------------------------------------------------------------\u001b[0m",
      "\u001b[1;31mValueError\u001b[0m                                Traceback (most recent call last)",
      "Cell \u001b[1;32mIn[13], line 2\u001b[0m\n\u001b[0;32m      1\u001b[0m \u001b[38;5;66;03m# user input \u001b[39;00m\n\u001b[1;32m----> 2\u001b[0m a\u001b[38;5;241m=\u001b[39m\u001b[38;5;28;43mint\u001b[39;49m\u001b[43m(\u001b[49m\u001b[38;5;28;43minput\u001b[39;49m\u001b[43m(\u001b[49m\u001b[38;5;124;43m\"\u001b[39;49m\u001b[38;5;124;43menter the value of A:\u001b[39;49m\u001b[38;5;124;43m\"\u001b[39;49m\u001b[43m)\u001b[49m\u001b[43m)\u001b[49m\n\u001b[0;32m      3\u001b[0m b\u001b[38;5;241m=\u001b[39m\u001b[38;5;28mint\u001b[39m(\u001b[38;5;28minput\u001b[39m(\u001b[38;5;124m\"\u001b[39m\u001b[38;5;124menter the value of B:\u001b[39m\u001b[38;5;124m\"\u001b[39m))\n\u001b[0;32m      4\u001b[0m c\u001b[38;5;241m=\u001b[39ma\u001b[38;5;241m+\u001b[39m\u001b[38;5;241m225\u001b[39m\n",
      "\u001b[1;31mValueError\u001b[0m: invalid literal for int() with base 10: ''"
     ]
    }
   ],
   "source": [
    "# user input \n",
    "a=int(input(\"enter the value of A:\"))\n",
    "b=int(input(\"enter the value of B:\"))\n",
    "c=a+225\n",
    "d=b+231\n",
    "d=a+b-c+d\n",
    "print(c)\n"
   ]
  },
  {
   "cell_type": "code",
   "execution_count": 15,
   "id": "073b48c6",
   "metadata": {},
   "outputs": [
    {
     "name": "stdout",
     "output_type": "stream",
     "text": [
      " hyy kaise ho aap \n"
     ]
    }
   ],
   "source": [
    "# user input with if else statement \n",
    "t=input( \" enter the value of   HUMAN : \")\n",
    "\n",
    "if(\"t= hello \"):\n",
    "      print ( \" hyy kaise ho aap \")\n",
    "      \n",
    "\n",
    "elif(\"t=i am fine how are you \"):\n",
    "      print (\" mai theek hu , btao mai aapki kaise help kr skta hu \")   \n",
    "\n",
    "elif(\"t= aapka naam kya hai \"):\n",
    "      print ( \" mera naam to tarun hai \") \n",
    "else :\n",
    "      print ( \" better luck for next time \")        \n"
   ]
  },
  {
   "cell_type": "code",
   "execution_count": 19,
   "id": "31ffd794",
   "metadata": {},
   "outputs": [
    {
     "name": "stdout",
     "output_type": "stream",
     "text": [
      "Bot: I'm not sure I understand. Can you ask something else?\n",
      "Bot: I'm not sure I understand. Can you ask something else?\n",
      "Bot: I'm not sure I understand. Can you ask something else?\n",
      "Bot: I'm not sure I understand. Can you ask something else?\n",
      "Bot: I'm not sure I understand. Can you ask something else?\n",
      "Bot: Goodbye!\n"
     ]
    }
   ],
   "source": [
    "print(\"Welcome to the Simple Chat Bot!\")\n",
    "\n",
    "while True:\n",
    "    user_input = input(\"You: \")\n",
    "\n",
    "    # Check for different user inputs and respond accordingly\n",
    "    if user_input.lower() == \"hi\" or user_input.lower() == \"hello\":\n",
    "        print(\"Bot: Hi there!\")\n",
    "    elif user_input.lower() == \"how are you?\":\n",
    "        print(\"Bot: I'm just a bot, but I'm doing well! How can I help you?\")\n",
    "    elif user_input.lower() == \"bye\":\n",
    "        print(\"Bot: Goodbye!\")\n",
    "        break  # Exit the loop\n",
    "    else:\n",
    "        print(\"Bot: I'm not sure I understand. Can you ask something else?\")\n"
   ]
  },
  {
   "cell_type": "code",
   "execution_count": null,
   "id": "982a913f",
   "metadata": {},
   "outputs": [],
   "source": [
    "# simple while loop \n",
    "a=283 \n",
    "b=387\n",
    "c=1000\n",
    "\n",
    "while   c>=a+b :\n",
    "  print(a+b)\n",
    "print(\"bye \")\n",
    "\n",
    "# running success fully \n",
    "\n"
   ]
  },
  {
   "cell_type": "code",
   "execution_count": 4,
   "id": "ea160508",
   "metadata": {},
   "outputs": [
    {
     "name": "stdout",
     "output_type": "stream",
     "text": [
      "try again\n"
     ]
    }
   ],
   "source": [
    "# whilw loop with user input \n",
    "a=int(input( \" A:\"))\n",
    "b=int(input( \" B:\"))\n",
    "c=2285\n",
    "while c>=a+b :\n",
    "    print(\"this is correct\" )\n",
    "print(\"try again\") \n",
    "    # here we take input greater then 2285 so it will show try again\n",
    " # successfully worked \n"
   ]
  },
  {
   "cell_type": "code",
   "execution_count": 1,
   "id": "8a892e9d",
   "metadata": {},
   "outputs": [
    {
     "name": "stdout",
     "output_type": "stream",
     "text": [
      "70.5\n"
     ]
    }
   ],
   "source": [
    "a=int(input(\"Enter the vale of A :\"))\n",
    "b=int(input(\" enter the value of B :\"))\n",
    "c=a+2*b/8*a-b\n",
    "if c==1000:\n",
    "    print(\" budhubanaya mja aaya \")\n",
    "else :\n",
    "    print(c)"
   ]
  },
  {
   "cell_type": "code",
   "execution_count": 7,
   "id": "05648a60",
   "metadata": {},
   "outputs": [],
   "source": [
    "#try to use while loop \n",
    "a= int(input( \" enter the value of A :\"))\n",
    "b=int(input(\"enter the value of B:\"))\n",
    "c=a+2*b/8*a-b\n",
    "c>2000\n",
    "while True :\n",
    "    print (\" this is true \")\n",
    "    \n",
    "if a.lower == (b) :\n",
    "    print(\" this is okay\")\n",
    "elif a+b.lower == c-234 :\n",
    "    print (\" okay\")\n",
    "\n",
    "else:\n",
    "    print ( \" c\")  \n",
    "\n",
    "    print(c)\n",
    "    "
   ]
  },
  {
   "cell_type": "code",
   "execution_count": 12,
   "id": "3c828793",
   "metadata": {},
   "outputs": [
    {
     "name": "stdout",
     "output_type": "stream",
     "text": [
      "110\n",
      "110\n",
      "110\n",
      "110\n",
      "110\n",
      "110\n",
      "110\n",
      "110\n",
      "110\n",
      "110\n",
      "110\n",
      "110\n",
      "110\n",
      "110\n",
      "110\n",
      "110\n",
      "110\n",
      "110\n",
      "110\n",
      "110\n",
      "110\n",
      "110\n",
      "110\n",
      "110\n",
      "110\n",
      "110\n",
      "110\n",
      "110\n",
      "110\n",
      "110\n",
      "110\n",
      "110\n",
      "110\n",
      "110\n",
      "110\n",
      "110\n",
      "110\n",
      "110\n",
      "110\n",
      "110\n",
      "110\n",
      "110\n",
      "110\n",
      "110\n",
      "110\n",
      "110\n",
      "110\n",
      "110\n",
      "110\n",
      "110\n",
      "110\n",
      "110\n",
      "110\n",
      "110\n",
      "110\n",
      "110\n",
      "110\n",
      "110\n",
      "110\n",
      "110\n",
      "110\n",
      "110\n",
      "110\n",
      "110\n",
      "110\n",
      "110\n",
      "110\n",
      "110\n",
      "110\n",
      "110\n",
      "110\n",
      "110\n",
      "110\n",
      "110\n",
      "110\n",
      "110\n",
      "110\n",
      "110\n",
      "110\n",
      "110\n",
      "110\n",
      "110\n",
      "110\n",
      "110\n",
      "110\n",
      "110\n",
      "110\n",
      "110\n",
      "110\n",
      "110\n",
      "110\n",
      "110\n",
      "110\n",
      "110\n",
      "110\n",
      "110\n",
      "110\n",
      "110\n",
      "110\n",
      "110\n",
      "110\n",
      "110\n",
      "110\n",
      "110\n",
      "110\n",
      "110\n",
      "110\n",
      "110\n",
      "110\n",
      "110\n",
      "110\n",
      "110\n",
      "110\n",
      "110\n",
      "110\n",
      "110\n",
      "110\n",
      "110\n",
      "110\n",
      "110\n",
      "110\n",
      "110\n",
      "110\n",
      "110\n",
      "110\n",
      "110\n",
      "110\n",
      "110\n",
      "110\n",
      "110\n",
      "110\n",
      "110\n",
      "110\n",
      "110\n",
      "110\n",
      "110\n",
      "110\n",
      "110\n",
      "110\n",
      "110\n",
      "110\n",
      "110\n",
      "110\n",
      "110\n",
      "110\n",
      "110\n",
      "110\n",
      "110\n",
      "110\n",
      "110\n",
      "110\n",
      "110\n",
      "110\n",
      "110\n",
      "110\n",
      "110\n",
      "110\n",
      "110\n",
      "110\n",
      "110\n",
      "110\n",
      "110\n",
      "110\n",
      "110\n",
      "110\n",
      "110\n",
      "110\n",
      "110\n",
      "110\n",
      "110\n",
      "110\n",
      "110\n",
      "110\n",
      "110\n",
      "110\n",
      "110\n",
      "110\n",
      "110\n",
      "110\n",
      "110\n",
      "110\n",
      "110\n",
      "110\n",
      "110\n",
      "110\n",
      "110\n",
      "110\n",
      "110\n",
      "110\n",
      "110\n",
      "110\n",
      "110\n",
      "110\n",
      "110\n",
      "110\n",
      "110\n",
      "110\n",
      "110\n",
      "110\n",
      "110\n",
      "110\n",
      "110\n",
      "110\n",
      "110\n",
      "110\n",
      "110\n",
      "110\n",
      "110\n",
      "110\n",
      "110\n",
      "110\n",
      "110\n",
      "110\n",
      "110\n",
      "110\n",
      "110\n",
      "110\n",
      "110\n",
      "110\n",
      "110\n",
      "110\n",
      "110\n",
      "110\n",
      "110\n",
      "110\n",
      "110\n",
      "110\n",
      "110\n",
      "110\n",
      "110\n",
      "110\n",
      "110\n",
      "110\n",
      "110\n",
      "110\n",
      "110\n",
      "110\n",
      "110\n",
      "110\n",
      "110\n",
      "110\n",
      "110\n",
      "110\n",
      "110\n",
      "110\n",
      "110\n",
      "110\n",
      "110\n",
      "110\n",
      "110\n",
      "110\n",
      "110\n",
      "110\n",
      "110\n",
      "110\n",
      "110\n",
      "110\n",
      "110\n",
      "110\n",
      "110\n",
      "110\n",
      "110\n",
      "110\n",
      "110\n",
      "110\n",
      "110\n",
      "110\n",
      "110\n",
      "110\n",
      "110\n",
      "110\n",
      "110\n",
      "110\n",
      "110\n",
      "110\n",
      "110\n",
      "110\n",
      "110\n",
      "110\n",
      "110\n",
      "110\n",
      "110\n",
      "110\n",
      "110\n",
      "110\n",
      "110\n",
      "110\n",
      "110\n",
      "110\n",
      "110\n",
      "110\n",
      "110\n",
      "110\n",
      "110\n",
      "110\n",
      "110\n",
      "110\n",
      "110\n",
      "110\n",
      "110\n",
      "110\n",
      "110\n",
      "110\n",
      "110\n",
      "110\n",
      "110\n",
      "110\n",
      "110\n",
      "110\n",
      "110\n",
      "110\n",
      "110\n",
      "110\n",
      "110\n",
      "110\n",
      "110\n",
      "110\n",
      "110\n",
      "110\n",
      "110\n",
      "110\n",
      "110\n",
      "110\n",
      "110\n",
      "110\n",
      "110\n",
      "110\n",
      "110\n",
      "110\n",
      "110\n",
      "110\n",
      "110\n",
      "110\n",
      "110\n",
      "110\n",
      "110\n",
      "110\n",
      "110\n",
      "110\n",
      "110\n",
      "110\n",
      "110\n",
      "110\n",
      "110\n",
      "110\n",
      "110\n",
      "110\n",
      "110\n",
      "110\n",
      "110\n",
      "110\n",
      "110\n",
      "110\n",
      "110\n",
      "110\n",
      "110\n",
      "110\n",
      "110\n",
      "110\n",
      "110\n",
      "110\n",
      "110\n",
      "110\n",
      "110\n",
      "110\n",
      "110\n",
      "110\n",
      "110\n",
      "110\n",
      "110\n",
      "110\n",
      "110\n",
      "110\n",
      "110\n",
      "110\n",
      "110\n",
      "110\n",
      "110\n",
      "110\n",
      "110\n",
      "110\n",
      "110\n",
      "110\n",
      "110\n",
      "110\n",
      "110\n",
      "110\n",
      "110\n",
      "110\n",
      "110\n",
      "110\n",
      "110\n",
      "110\n",
      "110\n",
      "110\n",
      "110\n",
      "110\n",
      "110\n",
      "110\n",
      "110\n",
      "110\n",
      "110\n",
      "110\n",
      "110\n",
      "110\n",
      "110\n",
      "110\n",
      "110\n",
      "110\n",
      "110\n",
      "110\n",
      "110\n",
      "110\n",
      "110\n",
      "110\n",
      "110\n",
      "110\n",
      "110\n",
      "110\n",
      "110\n",
      "110\n",
      "110\n",
      "110\n",
      "110\n",
      "110\n",
      "110\n",
      "110\n",
      "110\n",
      "110\n",
      "110\n",
      "110\n",
      "110\n",
      "110\n",
      "110\n",
      "110\n",
      "110\n",
      "110\n",
      "110\n",
      "110\n",
      "110\n",
      "110\n",
      "110\n",
      "110\n",
      "110\n",
      "110\n",
      "110\n",
      "110\n",
      "110\n",
      "110\n",
      "110\n",
      "110\n",
      "110\n",
      "110\n",
      "110\n",
      "110\n",
      "110\n",
      "110\n",
      "110\n",
      "110\n",
      "110\n",
      "110\n",
      "110\n",
      "110\n",
      "110\n",
      "110\n",
      "110\n",
      "110\n",
      "110\n",
      "110\n",
      "110\n",
      "110\n",
      "110\n",
      "110\n",
      "110\n",
      "110\n",
      "110\n",
      "110\n",
      "110\n",
      "110\n",
      "110\n",
      "110\n",
      "110\n",
      "110\n",
      "110\n",
      "110\n",
      "110\n",
      "110\n",
      "110\n",
      "110\n",
      "110\n",
      "110\n",
      "110\n",
      "110\n",
      "110\n",
      "110\n",
      "110\n",
      "110\n",
      "110\n",
      "110\n",
      "110\n",
      "110\n",
      "110\n",
      "110\n",
      "110\n",
      "110\n",
      "110\n",
      "110\n",
      "110\n",
      "110\n",
      "110\n",
      "110\n",
      "110\n",
      "110\n",
      "110\n",
      "110\n",
      "110\n",
      "110\n",
      "110\n",
      "110\n",
      "110\n",
      "110\n",
      "110\n",
      "110\n"
     ]
    }
   ],
   "source": [
    "\n",
    "\n",
    "a=int(input( \"A:\"))\n",
    "b=int(input(\" B:\"))\n",
    "c=a+3*b\n",
    "while True:\n",
    "    if c<200\n",
    "        a=(input(\"A:\"))\n",
    "        b=(input(\"B:\"))\n",
    "        print(a+b)\n",
    "    elif b=='B':\n",
    "           \n",
    "        print(\"bye\")   \n",
    "        break\n",
    "else:\n",
    "        print('good')    "
   ]
  },
  {
   "cell_type": "code",
   "execution_count": 7,
   "id": "03db30d7",
   "metadata": {},
   "outputs": [
    {
     "name": "stdout",
     "output_type": "stream",
     "text": [
      "0\n",
      "1\n",
      "2\n",
      "3\n",
      "4\n",
      "5\n",
      "6\n",
      "7\n",
      "8\n",
      "9\n",
      "10\n",
      "11\n",
      "12\n",
      "13\n",
      "14\n",
      "15\n",
      "16\n",
      "17\n",
      "18\n",
      "amit\n",
      "amit\n",
      "amit\n",
      "amit\n"
     ]
    }
   ],
   "source": [
    "# for loop \n",
    "for i in range(19):\n",
    "  print(i)\n",
    "\n",
    "tarun = (\"amit\")\n",
    "\n",
    "for amit in tarun:\n",
    "  print(tarun)"
   ]
  },
  {
   "cell_type": "code",
   "execution_count": 10,
   "id": "72eef16a",
   "metadata": {},
   "outputs": [
    {
     "name": "stdout",
     "output_type": "stream",
     "text": [
      "[12, 34, 'tarun,amit,sumit,vikas', 23.0, 60]\n",
      "[12, 34, 'tarun,amit,sumit,vikas', 23.0, 60]\n",
      "[12, 34, 'tarun,amit,sumit,vikas', 23.0, 60]\n",
      "[12, 34, 'tarun,amit,sumit,vikas', 23.0, 60]\n",
      "[12, 34, 'tarun,amit,sumit,vikas', 23.0, 60]\n"
     ]
    }
   ],
   "source": [
    "# use of for loop with some example \n",
    "montu=[12,34,\"tarun,amit,sumit,vikas\",23.0,60]\n",
    "for num in montu:\n",
    "    print(montu)"
   ]
  },
  {
   "cell_type": "code",
   "execution_count": 12,
   "id": "eaea0841",
   "metadata": {},
   "outputs": [
    {
     "name": "stdout",
     "output_type": "stream",
     "text": [
      "[1, 2, 3, 4, 5]\n",
      "[1, 2, 3, 4, 5]\n",
      "[1, 2, 3, 4, 5]\n",
      "[1, 2, 3, 4, 5]\n",
      "[1, 2, 3, 4, 5]\n"
     ]
    }
   ],
   "source": [
    "numbers = [1, 2, 3, 4, 5]\n",
    "for num in numbers:\n",
    "    print(numbers)\n"
   ]
  },
  {
   "cell_type": "code",
   "execution_count": 18,
   "id": "32e1a5f9",
   "metadata": {},
   "outputs": [
    {
     "name": "stdout",
     "output_type": "stream",
     "text": [
      "[1, 2, 3]\n",
      "[1, 2, 3]\n",
      "[1, 2, 3]\n",
      "[4, 5, 6]\n",
      "[4, 5, 6]\n",
      "[4, 5, 6]\n",
      "[7, 8, 9]\n",
      "[7, 8, 9]\n",
      "[7, 8, 9]\n",
      "[[1, 2, 3], [15, 12, 50], [18, 12, 45]]\n",
      "[[1, 2, 3], [15, 12, 50], [18, 12, 45]]\n",
      "[[1, 2, 3], [15, 12, 50], [18, 12, 45]]\n"
     ]
    }
   ],
   "source": [
    "matrix = [[1, 2, 3], [4, 5, 6], [7, 8, 9]]\n",
    "for column in matrix:\n",
    "    for martix in column:\n",
    "        print(column)\n",
    "\n",
    "\n",
    "tbl=[[1,2,3],[15,12,50],[18,12,45]]\n",
    "for num12 in tbl :\n",
    "    print(tbl)\n"
   ]
  },
  {
   "cell_type": "code",
   "execution_count": 23,
   "id": "c1aa6f5b",
   "metadata": {},
   "outputs": [
    {
     "name": "stdout",
     "output_type": "stream",
     "text": [
      "1 x 1 = 1\t501 x 2 = 2\t501 x 3 = 3\t501 x 4 = 4\t501 x 5 = 5\t501 x 6 = 6\t501 x 7 = 7\t501 x 8 = 8\t501 x 9 = 9\t501 x 10 = 10\t501 x 11 = 11\t501 x 12 = 12\t501 x 13 = 13\t501 x 14 = 14\t501 x 15 = 15\t501 x 16 = 16\t501 x 17 = 17\t501 x 18 = 18\t501 x 19 = 19\t501 x 20 = 20\t50\n",
      "2 x 1 = 2\t502 x 2 = 4\t502 x 3 = 6\t502 x 4 = 8\t502 x 5 = 10\t502 x 6 = 12\t502 x 7 = 14\t502 x 8 = 16\t502 x 9 = 18\t502 x 10 = 20\t502 x 11 = 22\t502 x 12 = 24\t502 x 13 = 26\t502 x 14 = 28\t502 x 15 = 30\t502 x 16 = 32\t502 x 17 = 34\t502 x 18 = 36\t502 x 19 = 38\t502 x 20 = 40\t50\n",
      "3 x 1 = 3\t503 x 2 = 6\t503 x 3 = 9\t503 x 4 = 12\t503 x 5 = 15\t503 x 6 = 18\t503 x 7 = 21\t503 x 8 = 24\t503 x 9 = 27\t503 x 10 = 30\t503 x 11 = 33\t503 x 12 = 36\t503 x 13 = 39\t503 x 14 = 42\t503 x 15 = 45\t503 x 16 = 48\t503 x 17 = 51\t503 x 18 = 54\t503 x 19 = 57\t503 x 20 = 60\t50\n",
      "4 x 1 = 4\t504 x 2 = 8\t504 x 3 = 12\t504 x 4 = 16\t504 x 5 = 20\t504 x 6 = 24\t504 x 7 = 28\t504 x 8 = 32\t504 x 9 = 36\t504 x 10 = 40\t504 x 11 = 44\t504 x 12 = 48\t504 x 13 = 52\t504 x 14 = 56\t504 x 15 = 60\t504 x 16 = 64\t504 x 17 = 68\t504 x 18 = 72\t504 x 19 = 76\t504 x 20 = 80\t50\n",
      "5 x 1 = 5\t505 x 2 = 10\t505 x 3 = 15\t505 x 4 = 20\t505 x 5 = 25\t505 x 6 = 30\t505 x 7 = 35\t505 x 8 = 40\t505 x 9 = 45\t505 x 10 = 50\t505 x 11 = 55\t505 x 12 = 60\t505 x 13 = 65\t505 x 14 = 70\t505 x 15 = 75\t505 x 16 = 80\t505 x 17 = 85\t505 x 18 = 90\t505 x 19 = 95\t505 x 20 = 100\t50\n",
      "6 x 1 = 6\t506 x 2 = 12\t506 x 3 = 18\t506 x 4 = 24\t506 x 5 = 30\t506 x 6 = 36\t506 x 7 = 42\t506 x 8 = 48\t506 x 9 = 54\t506 x 10 = 60\t506 x 11 = 66\t506 x 12 = 72\t506 x 13 = 78\t506 x 14 = 84\t506 x 15 = 90\t506 x 16 = 96\t506 x 17 = 102\t506 x 18 = 108\t506 x 19 = 114\t506 x 20 = 120\t50\n",
      "7 x 1 = 7\t507 x 2 = 14\t507 x 3 = 21\t507 x 4 = 28\t507 x 5 = 35\t507 x 6 = 42\t507 x 7 = 49\t507 x 8 = 56\t507 x 9 = 63\t507 x 10 = 70\t507 x 11 = 77\t507 x 12 = 84\t507 x 13 = 91\t507 x 14 = 98\t507 x 15 = 105\t507 x 16 = 112\t507 x 17 = 119\t507 x 18 = 126\t507 x 19 = 133\t507 x 20 = 140\t50\n",
      "8 x 1 = 8\t508 x 2 = 16\t508 x 3 = 24\t508 x 4 = 32\t508 x 5 = 40\t508 x 6 = 48\t508 x 7 = 56\t508 x 8 = 64\t508 x 9 = 72\t508 x 10 = 80\t508 x 11 = 88\t508 x 12 = 96\t508 x 13 = 104\t508 x 14 = 112\t508 x 15 = 120\t508 x 16 = 128\t508 x 17 = 136\t508 x 18 = 144\t508 x 19 = 152\t508 x 20 = 160\t50\n",
      "9 x 1 = 9\t509 x 2 = 18\t509 x 3 = 27\t509 x 4 = 36\t509 x 5 = 45\t509 x 6 = 54\t509 x 7 = 63\t509 x 8 = 72\t509 x 9 = 81\t509 x 10 = 90\t509 x 11 = 99\t509 x 12 = 108\t509 x 13 = 117\t509 x 14 = 126\t509 x 15 = 135\t509 x 16 = 144\t509 x 17 = 153\t509 x 18 = 162\t509 x 19 = 171\t509 x 20 = 180\t50\n",
      "10 x 1 = 10\t5010 x 2 = 20\t5010 x 3 = 30\t5010 x 4 = 40\t5010 x 5 = 50\t5010 x 6 = 60\t5010 x 7 = 70\t5010 x 8 = 80\t5010 x 9 = 90\t5010 x 10 = 100\t5010 x 11 = 110\t5010 x 12 = 120\t5010 x 13 = 130\t5010 x 14 = 140\t5010 x 15 = 150\t5010 x 16 = 160\t5010 x 17 = 170\t5010 x 18 = 180\t5010 x 19 = 190\t5010 x 20 = 200\t50\n",
      "11 x 1 = 11\t5011 x 2 = 22\t5011 x 3 = 33\t5011 x 4 = 44\t5011 x 5 = 55\t5011 x 6 = 66\t5011 x 7 = 77\t5011 x 8 = 88\t5011 x 9 = 99\t5011 x 10 = 110\t5011 x 11 = 121\t5011 x 12 = 132\t5011 x 13 = 143\t5011 x 14 = 154\t5011 x 15 = 165\t5011 x 16 = 176\t5011 x 17 = 187\t5011 x 18 = 198\t5011 x 19 = 209\t5011 x 20 = 220\t50\n",
      "12 x 1 = 12\t5012 x 2 = 24\t5012 x 3 = 36\t5012 x 4 = 48\t5012 x 5 = 60\t5012 x 6 = 72\t5012 x 7 = 84\t5012 x 8 = 96\t5012 x 9 = 108\t5012 x 10 = 120\t5012 x 11 = 132\t5012 x 12 = 144\t5012 x 13 = 156\t5012 x 14 = 168\t5012 x 15 = 180\t5012 x 16 = 192\t5012 x 17 = 204\t5012 x 18 = 216\t5012 x 19 = 228\t5012 x 20 = 240\t50\n",
      "13 x 1 = 13\t5013 x 2 = 26\t5013 x 3 = 39\t5013 x 4 = 52\t5013 x 5 = 65\t5013 x 6 = 78\t5013 x 7 = 91\t5013 x 8 = 104\t5013 x 9 = 117\t5013 x 10 = 130\t5013 x 11 = 143\t5013 x 12 = 156\t5013 x 13 = 169\t5013 x 14 = 182\t5013 x 15 = 195\t5013 x 16 = 208\t5013 x 17 = 221\t5013 x 18 = 234\t5013 x 19 = 247\t5013 x 20 = 260\t50\n",
      "14 x 1 = 14\t5014 x 2 = 28\t5014 x 3 = 42\t5014 x 4 = 56\t5014 x 5 = 70\t5014 x 6 = 84\t5014 x 7 = 98\t5014 x 8 = 112\t5014 x 9 = 126\t5014 x 10 = 140\t5014 x 11 = 154\t5014 x 12 = 168\t5014 x 13 = 182\t5014 x 14 = 196\t5014 x 15 = 210\t5014 x 16 = 224\t5014 x 17 = 238\t5014 x 18 = 252\t5014 x 19 = 266\t5014 x 20 = 280\t50\n",
      "15 x 1 = 15\t5015 x 2 = 30\t5015 x 3 = 45\t5015 x 4 = 60\t5015 x 5 = 75\t5015 x 6 = 90\t5015 x 7 = 105\t5015 x 8 = 120\t5015 x 9 = 135\t5015 x 10 = 150\t5015 x 11 = 165\t5015 x 12 = 180\t5015 x 13 = 195\t5015 x 14 = 210\t5015 x 15 = 225\t5015 x 16 = 240\t5015 x 17 = 255\t5015 x 18 = 270\t5015 x 19 = 285\t5015 x 20 = 300\t50\n",
      "16 x 1 = 16\t5016 x 2 = 32\t5016 x 3 = 48\t5016 x 4 = 64\t5016 x 5 = 80\t5016 x 6 = 96\t5016 x 7 = 112\t5016 x 8 = 128\t5016 x 9 = 144\t5016 x 10 = 160\t5016 x 11 = 176\t5016 x 12 = 192\t5016 x 13 = 208\t5016 x 14 = 224\t5016 x 15 = 240\t5016 x 16 = 256\t5016 x 17 = 272\t5016 x 18 = 288\t5016 x 19 = 304\t5016 x 20 = 320\t50\n",
      "17 x 1 = 17\t5017 x 2 = 34\t5017 x 3 = 51\t5017 x 4 = 68\t5017 x 5 = 85\t5017 x 6 = 102\t5017 x 7 = 119\t5017 x 8 = 136\t5017 x 9 = 153\t5017 x 10 = 170\t5017 x 11 = 187\t5017 x 12 = 204\t5017 x 13 = 221\t5017 x 14 = 238\t5017 x 15 = 255\t5017 x 16 = 272\t5017 x 17 = 289\t5017 x 18 = 306\t5017 x 19 = 323\t5017 x 20 = 340\t50\n",
      "18 x 1 = 18\t5018 x 2 = 36\t5018 x 3 = 54\t5018 x 4 = 72\t5018 x 5 = 90\t5018 x 6 = 108\t5018 x 7 = 126\t5018 x 8 = 144\t5018 x 9 = 162\t5018 x 10 = 180\t5018 x 11 = 198\t5018 x 12 = 216\t5018 x 13 = 234\t5018 x 14 = 252\t5018 x 15 = 270\t5018 x 16 = 288\t5018 x 17 = 306\t5018 x 18 = 324\t5018 x 19 = 342\t5018 x 20 = 360\t50\n",
      "19 x 1 = 19\t5019 x 2 = 38\t5019 x 3 = 57\t5019 x 4 = 76\t5019 x 5 = 95\t5019 x 6 = 114\t5019 x 7 = 133\t5019 x 8 = 152\t5019 x 9 = 171\t5019 x 10 = 190\t5019 x 11 = 209\t5019 x 12 = 228\t5019 x 13 = 247\t5019 x 14 = 266\t5019 x 15 = 285\t5019 x 16 = 304\t5019 x 17 = 323\t5019 x 18 = 342\t5019 x 19 = 361\t5019 x 20 = 380\t50\n",
      "20 x 1 = 20\t5020 x 2 = 40\t5020 x 3 = 60\t5020 x 4 = 80\t5020 x 5 = 100\t5020 x 6 = 120\t5020 x 7 = 140\t5020 x 8 = 160\t5020 x 9 = 180\t5020 x 10 = 200\t5020 x 11 = 220\t5020 x 12 = 240\t5020 x 13 = 260\t5020 x 14 = 280\t5020 x 15 = 300\t5020 x 16 = 320\t5020 x 17 = 340\t5020 x 18 = 360\t5020 x 19 = 380\t5020 x 20 = 400\t50\n"
     ]
    }
   ],
   "source": [
    "# Define the size of the multiplication table\n",
    "table_size = 20\n",
    "\n",
    "# Create a multiplication table using nested for loops\n",
    "for i in range(1, table_size + 1):\n",
    "    for j in range(1, table_size + 1):\n",
    "        # Calculate and print the product of i and j\n",
    "        product = i * j\n",
    "        print(f\"{i} x {j} = {product}\\t\", end=\"\")\n",
    "    print()  # Move to the next line after each row\n"
   ]
  },
  {
   "cell_type": "code",
   "execution_count": 30,
   "id": "95635dec",
   "metadata": {},
   "outputs": [
    {
     "name": "stdout",
     "output_type": "stream",
     "text": [
      "1 x 1 = 1\t1 x 2 = 2\t1 x 3 = 3\t1 x 4 = 4\t1 x 5 = 5\t1 x 6 = 6\t1 x 7 = 7\t1 x 8 = 8\t1 x 9 = 9\t1 x 10 = 10\t\n",
      "2 x 1 = 2\t2 x 2 = 4\t2 x 3 = 6\t2 x 4 = 8\t2 x 5 = 10\t2 x 6 = 12\t2 x 7 = 14\t2 x 8 = 16\t2 x 9 = 18\t2 x 10 = 20\t\n",
      "3 x 1 = 3\t3 x 2 = 6\t3 x 3 = 9\t3 x 4 = 12\t3 x 5 = 15\t3 x 6 = 18\t3 x 7 = 21\t3 x 8 = 24\t3 x 9 = 27\t3 x 10 = 30\t\n",
      "4 x 1 = 4\t4 x 2 = 8\t4 x 3 = 12\t4 x 4 = 16\t4 x 5 = 20\t4 x 6 = 24\t4 x 7 = 28\t4 x 8 = 32\t4 x 9 = 36\t4 x 10 = 40\t\n",
      "5 x 1 = 5\t5 x 2 = 10\t5 x 3 = 15\t5 x 4 = 20\t5 x 5 = 25\t5 x 6 = 30\t5 x 7 = 35\t5 x 8 = 40\t5 x 9 = 45\t5 x 10 = 50\t\n",
      "6 x 1 = 6\t6 x 2 = 12\t6 x 3 = 18\t6 x 4 = 24\t6 x 5 = 30\t6 x 6 = 36\t6 x 7 = 42\t6 x 8 = 48\t6 x 9 = 54\t6 x 10 = 60\t\n",
      "7 x 1 = 7\t7 x 2 = 14\t7 x 3 = 21\t7 x 4 = 28\t7 x 5 = 35\t7 x 6 = 42\t7 x 7 = 49\t7 x 8 = 56\t7 x 9 = 63\t7 x 10 = 70\t\n",
      "8 x 1 = 8\t8 x 2 = 16\t8 x 3 = 24\t8 x 4 = 32\t8 x 5 = 40\t8 x 6 = 48\t8 x 7 = 56\t8 x 8 = 64\t8 x 9 = 72\t8 x 10 = 80\t\n",
      "9 x 1 = 9\t9 x 2 = 18\t9 x 3 = 27\t9 x 4 = 36\t9 x 5 = 45\t9 x 6 = 54\t9 x 7 = 63\t9 x 8 = 72\t9 x 9 = 81\t9 x 10 = 90\t\n",
      "10 x 1 = 10\t10 x 2 = 20\t10 x 3 = 30\t10 x 4 = 40\t10 x 5 = 50\t10 x 6 = 60\t10 x 7 = 70\t10 x 8 = 80\t10 x 9 = 90\t10 x 10 = 100\t\n"
     ]
    }
   ],
   "source": [
    "table_size=11\n",
    "for i in range (1,table_size,+1):\n",
    "    for j in range (1,table_size,+1):\n",
    "        product=i*j\n",
    "        print(f\"{i} x {j} = {product}\\t\", end=\"\")\n",
    "    print()"
   ]
  },
  {
   "cell_type": "markdown",
   "id": "9c669d44",
   "metadata": {},
   "source": [
    "# String "
   ]
  },
  {
   "cell_type": "code",
   "execution_count": 9,
   "id": "46cc8bd8",
   "metadata": {},
   "outputs": [
    {
     "name": "stdout",
     "output_type": "stream",
     "text": [
      "<class 'str'>\n",
      "Record not find\n"
     ]
    }
   ],
   "source": [
    "# use of string \n",
    "# we can store any type of value in string by using of (\"\", '') \n",
    "school= (\"'Tarun ','amit','sumit', '94.267'\")\n",
    "print(type(school))\n",
    "if 'Trun' in school:\n",
    "    print(\"find\")\n",
    "    print('tarun')\n",
    "else:\n",
    "  print(\"Record not find\")"
   ]
  },
  {
   "cell_type": "code",
   "execution_count": 13,
   "id": "a456f880",
   "metadata": {},
   "outputs": [
    {
     "name": "stdout",
     "output_type": "stream",
     "text": [
      "class,roll\n",
      "a\n",
      "ass,rollno , schoo\n"
     ]
    }
   ],
   "source": [
    "# string slicing \n",
    "#print te particular part of strng\n",
    "Stri=\"class,rollno , school , student name , teacher name\"\n",
    "print(Stri [:10])\n",
    "print(Stri[-10])\n",
    "print(Stri[2:20])"
   ]
  },
  {
   "cell_type": "code",
   "execution_count": 24,
   "id": "53bfba41",
   "metadata": {},
   "outputs": [
    {
     "name": "stdout",
     "output_type": "stream",
     "text": [
      "1\n"
     ]
    }
   ],
   "source": [
    "# built in functions of string\n",
    "Str='tarun','mohit','jonu','deepanshu'\n",
    "x= Str.count('tarun')\n",
    "print(x)"
   ]
  },
  {
   "cell_type": "code",
   "execution_count": 22,
   "id": "7e28d1c0",
   "metadata": {},
   "outputs": [
    {
     "name": "stdout",
     "output_type": "stream",
     "text": [
      "<class 'str'>\n",
      "Slicing: age ,dob,place,location,father\n",
      "Update string : age ,dob,place,location,father name , mother name , total family mamber ,sister\n",
      "string  update successfully\n"
     ]
    }
   ],
   "source": [
    "#string updating and slicing using conditional statements \n",
    "tarun=\"age ,dob,place,location,father name , mother name , total family mamber \"\n",
    "print(type(tarun))\n",
    "print(\"Slicing:\", tarun[:30] )\n",
    "if 'sister' in tarun :\n",
    "    print(\" record found\")\n",
    "    print(\"sister\")\n",
    "else :\n",
    "    print(\"Update string :\",tarun[:]+\",sister\")  \n",
    "print(\"string  update successfully\")      "
   ]
  },
  {
   "cell_type": "code",
   "execution_count": 25,
   "id": "5a3e78da",
   "metadata": {},
   "outputs": [
    {
     "name": "stdout",
     "output_type": "stream",
     "text": [
      "[1, 2, 3, 4, 5, 6, 7, 8, 'tarun', 'amit', 'sumit', 'tarun']\n",
      "2\n"
     ]
    }
   ],
   "source": [
    "L1 = [1,2,3,4,5,6,7,8,'tarun','amit','sumit','tarun']\n",
    "print(L1)\n",
    "x=L1.count('tarun')\n",
    "print(x)"
   ]
  },
  {
   "cell_type": "code",
   "execution_count": 27,
   "id": "d07332a7",
   "metadata": {},
   "outputs": [
    {
     "name": "stdout",
     "output_type": "stream",
     "text": [
      "['tarun', 'amit', 'sumit', 'mohit']\n"
     ]
    }
   ],
   "source": [
    "# list constructor \n",
    "L1=list(('tarun','amit','sumit','mohit'))\n",
    "print(L1)"
   ]
  },
  {
   "cell_type": "code",
   "execution_count": 9,
   "id": "2880b9e5",
   "metadata": {},
   "outputs": [
    {
     "name": "stdout",
     "output_type": "stream",
     "text": [
      "Slicing are: [4, 5, 6, 11, 5, 6, 'amit', 'sumit']\n",
      "2\n"
     ]
    }
   ],
   "source": [
    "# slicing in list \n",
    "tarun=[12,34,56,2,3,3,4,5,6,11,5,6,'amit', 'sumit' ]\n",
    "x=tarun.count(5)\n",
    "print('Slicing are:',tarun[-8:])\n",
    "print(x)"
   ]
  },
  {
   "cell_type": "code",
   "execution_count": 3,
   "id": "a726d098",
   "metadata": {},
   "outputs": [
    {
     "name": "stdout",
     "output_type": "stream",
     "text": [
      "Integers: [1, 2, 3]\n",
      "Characters: ['a', 'b', 'c']\n"
     ]
    }
   ],
   "source": [
    "# Create a list with integers and characters\n",
    "mixed_list = [1, 'a', 2, 'b', 3, 'c']\n",
    "\n",
    "# Separate integers and characters\n",
    "integers = [item for item in mixed_list if isinstance(item, int)]\n",
    "characters = [item for item in mixed_list if isinstance(item, str)]\n",
    "\n",
    "# Print the results\n",
    "print(\"Integers:\", integers)\n",
    "print(\"Characters:\", characters)\n"
   ]
  },
  {
   "cell_type": "code",
   "execution_count": 1,
   "id": "21b2d47b",
   "metadata": {},
   "outputs": [
    {
     "name": "stdout",
     "output_type": "stream",
     "text": [
      "33\n"
     ]
    }
   ],
   "source": [
    "print(0xA+0xB+0xC)"
   ]
  },
  {
   "cell_type": "code",
   "execution_count": 1,
   "id": "a9c9e48e",
   "metadata": {},
   "outputs": [
    {
     "name": "stdout",
     "output_type": "stream",
     "text": [
      "<class 'tuple'>\n"
     ]
    }
   ],
   "source": [
    "# touple \n",
    "a=('tarun', 'mohit',5,10,50,50.4)   #this is a touple \n",
    "print(type(a))"
   ]
  },
  {
   "cell_type": "code",
   "execution_count": 2,
   "id": "abb3828d",
   "metadata": {},
   "outputs": [
    {
     "name": "stdout",
     "output_type": "stream",
     "text": [
      "<class 'dict'>\n"
     ]
    }
   ],
   "source": [
    "# dictonary\n",
    "#creating a dictonary\n",
    "tarun ={ 1:\"name\", 2: \" village\", 3: \"date of birth\"}\n",
    "#check the type of dictonary \n",
    "\n",
    "print(type(tarun))\n"
   ]
  },
  {
   "cell_type": "code",
   "execution_count": 3,
   "id": "3b748db5",
   "metadata": {},
   "outputs": [
    {
     "name": "stdout",
     "output_type": "stream",
     "text": [
      "{1: 'teacher', 2: 'student', 3: 'syllabys', 'f': ['amit', 'sumit', 'ajay', 'ijay']}\n"
     ]
    }
   ],
   "source": [
    "# to store multiple value in a key \n",
    "# by using list \n",
    "school = { 1: \"teacher\",2: \"student\",3 : \"syllabys\", 'f':['amit','sumit','ajay','ijay']}  # this is the example of dictonar with list\n",
    "\n",
    "print(school)"
   ]
  },
  {
   "cell_type": "code",
   "execution_count": 12,
   "id": "228d7dee",
   "metadata": {},
   "outputs": [
    {
     "name": "stdout",
     "output_type": "stream",
     "text": [
      "not found\n"
     ]
    }
   ],
   "source": [
    "#dictnary using if else conditional statement \n",
    "dict = {1:'mom',2 :'dad' ,4 :'sister',5 : 'me'}\n",
    "if 'me' in dict:\n",
    "    print(2)\n",
    "else:\n",
    "    print(\"not found\")\n"
   ]
  },
  {
   "cell_type": "code",
   "execution_count": 3,
   "metadata": {},
   "outputs": [
    {
     "ename": "NameError",
     "evalue": "name 'df' is not defined",
     "output_type": "error",
     "traceback": [
      "\u001b[1;31m---------------------------------------------------------------------------\u001b[0m",
      "\u001b[1;31mNameError\u001b[0m                                 Traceback (most recent call last)",
      "Cell \u001b[1;32mIn[3], line 2\u001b[0m\n\u001b[0;32m      1\u001b[0m \u001b[38;5;66;03m# Extracting month and year from the timestamp\u001b[39;00m\n\u001b[1;32m----> 2\u001b[0m df[\u001b[38;5;124m'\u001b[39m\u001b[38;5;124mMonth\u001b[39m\u001b[38;5;124m'\u001b[39m] \u001b[38;5;241m=\u001b[39m \u001b[43mdf\u001b[49m[\u001b[38;5;124m'\u001b[39m\u001b[38;5;124mtimestamp\u001b[39m\u001b[38;5;124m'\u001b[39m]\u001b[38;5;241m.\u001b[39mdt\u001b[38;5;241m.\u001b[39mmonth\n\u001b[0;32m      3\u001b[0m df[\u001b[38;5;124m'\u001b[39m\u001b[38;5;124mYear\u001b[39m\u001b[38;5;124m'\u001b[39m] \u001b[38;5;241m=\u001b[39m df[\u001b[38;5;124m'\u001b[39m\u001b[38;5;124mtimestamp\u001b[39m\u001b[38;5;124m'\u001b[39m]\u001b[38;5;241m.\u001b[39mdt\u001b[38;5;241m.\u001b[39myear\n\u001b[0;32m      5\u001b[0m \u001b[38;5;66;03m# Grouping data by month and aggregating the total sales\u001b[39;00m\n",
      "\u001b[1;31mNameError\u001b[0m: name 'df' is not defined"
     ]
    }
   ],
   "source": [
    "# Extracting month and year from the timestamp\n",
    "df['Month'] = df['timestamp'].dt.month\n",
    "df['Year'] = df['timestamp'].dt.year\n",
    "\n",
    "# Grouping data by month and aggregating the total sales\n",
    "monthly_sales = df.groupby(['Year', 'Month'])['total_sales'].sum().reset_index()\n",
    "\n",
    "# Creating a time series plot\n",
    "plt.figure(figsize=(12, 6))\n",
    "plt.plot(monthly_sales['Year'].astype(str) + '-' + monthly_sales['Month'].astype(str), monthly_sales['total_sales'], marker='o')\n",
    "plt.xlabel('Month')\n",
    "plt.ylabel('Total Sales')\n",
    "plt.title('Monthly Total Sales Over Time')\n",
    "plt.xticks(rotation=45)\n",
    "plt.show()"
   ]
  },
  {
   "cell_type": "code",
   "execution_count": 4,
   "id": "11fd940d",
   "metadata": {},
   "outputs": [
    {
     "ename": "ModuleNotFoundError",
     "evalue": "No module named 'matplotlib'",
     "output_type": "error",
     "traceback": [
      "\u001b[1;31m---------------------------------------------------------------------------\u001b[0m",
      "\u001b[1;31mModuleNotFoundError\u001b[0m                       Traceback (most recent call last)",
      "Cell \u001b[1;32mIn[4], line 1\u001b[0m\n\u001b[1;32m----> 1\u001b[0m \u001b[38;5;28;01mimport\u001b[39;00m \u001b[38;5;21;01mmatplotlib\u001b[39;00m\u001b[38;5;21;01m.\u001b[39;00m\u001b[38;5;21;01mpyplot\u001b[39;00m \u001b[38;5;28;01mas\u001b[39;00m \u001b[38;5;21;01mplt\u001b[39;00m\n\u001b[0;32m      2\u001b[0m \u001b[38;5;28;01mimport\u001b[39;00m \u001b[38;5;21;01mseaborn\u001b[39;00m \u001b[38;5;28;01mas\u001b[39;00m \u001b[38;5;21;01msns\u001b[39;00m\n\u001b[0;32m      3\u001b[0m \u001b[38;5;66;03m# Calculate product category correlation matrix\u001b[39;00m\n",
      "\u001b[1;31mModuleNotFoundError\u001b[0m: No module named 'matplotlib'"
     ]
    }
   ],
   "source": [
    "import matplotlib.pyplot as plt\n",
    "import seaborn as sns\n",
    "# Calculate product category correlation matrix\n",
    "correlation_matrix = df_product_categories.corr()\n",
    "# Create a heatmap\n",
    "plt.figure(figsize=(10, 8))\n",
    "sns.heatmap(correlation_matrix, annot=True, cmap='coolwarm', fmt=\".2f\", linewidths=.5)\n",
    "plt.title('Product Category Correlation Heatmap')\n",
    "plt.show()\n",
    "# Extracting month and year from the timestamp\n",
    "df['Month'] = df['timestamp'].dt.month\n",
    "df['Year'] = df['timestamp'].dt.year\n",
    "\n",
    "# Grouping data by month and aggregating the total sales\n",
    "monthly_sales = df.groupby(['Year', 'Month'])['total_sales'].sum().reset_index()\n",
    "\n",
    "# Creating a time series plot\n",
    "plt.figure(figsize=(12, 6))\n",
    "plt.plot(monthly_sales['Year'].astype(str) + '-' + monthly_sales['Month'].astype(str), monthly_sales['total_sales'], marker='o')\n",
    "plt.xlabel('Month')\n",
    "plt.ylabel('Total Sales')\n",
    "plt.title('Monthly Total Sales Over Time')\n",
    "plt.xticks(rotation=45)\n",
    "plt.show()\n",
    "plt.figure(figsize=(10, 8))\n",
    "plt.scatter(df['Age'], df['Total_Purchases'], c=df['Gender'].map({'Male': 'blue', 'Female': 'pink'}), alpha=0.5)\n",
    "plt.title('Customer Segmentation based on Age and Total Purchases')\n",
    "plt.xlabel('Age')\n",
    "plt.ylabel('Total Purchases')\n",
    "plt.legend(['Male', 'Female'])\n",
    "plt.show()"
   ]
  },
  {
   "cell_type": "code",
   "execution_count": 1,
   "id": "d71db198",
   "metadata": {},
   "outputs": [
    {
     "name": "stdout",
     "output_type": "stream",
     "text": [
      "13\n"
     ]
    }
   ],
   "source": [
    "#length of the string \n",
    "school= \" tarun kumar \"  // # here we find the lemgth of a string by using len function \n",
    "print(len(school))"
   ]
  },
  {
   "cell_type": "code",
   "execution_count": 5,
   "id": "19e3b366",
   "metadata": {},
   "outputs": [
    {
     "name": "stdout",
     "output_type": "stream",
     "text": [
      " Tarun Kumar \n",
      " ramuK nuraT              "
     ]
    }
   ],
   "source": [
    "# write a python program to access each element of a string on forward and revearse order by using while loopp \n",
    "\n",
    "str = \" Tarun Kumar \" # this is a string \n",
    "\n",
    "# access each character using while loop \n",
    "n= len(str)  # n= no of character in str \n",
    "i=0\n",
    "while i<n:\n",
    "    print(str[i], end='')\n",
    "    i+=1\n",
    "print()\n",
    "# access revese of string \n",
    "i=-1\n",
    "while i>=-n:\n",
    "        print(str[i],end='')\n",
    "        i-=1\n",
    "# access in reversr order using negative indexing \n",
    "i=1\n",
    "n= len(str)\n",
    "while i<=n :\n",
    "    print(str[-1], end ='')\n",
    "    i+=1            "
   ]
  },
  {
   "cell_type": "code",
   "execution_count": 3,
   "id": "9c5044da",
   "metadata": {},
   "outputs": [
    {
     "name": "stdout",
     "output_type": "stream",
     "text": [
      "<class 'dict'>\n"
     ]
    }
   ],
   "source": [
    "# dictonary \n",
    "#collection of python which works on keys and pair value\n",
    "#create a dictonary \n",
    "school = { 1:'teacher',2:'student',3:'parents',4:'bus driver'} \n",
    "print(type(school))   # use of type function "
   ]
  },
  {
   "cell_type": "code",
   "execution_count": 4,
   "id": "f1986d5b",
   "metadata": {},
   "outputs": [
    {
     "name": "stdout",
     "output_type": "stream",
     "text": [
      "{1: 'english', 2: 'hindi', 3: 'hinglish', 'computer lang': ['python', 'java', 'c', 'c++']}\n"
     ]
    }
   ],
   "source": [
    "# store multiple values in single valve ( dictonary )\n",
    "lang2= { 1: 'english' ,2: 'hindi', 3: 'hinglish', 'computer lang':['python', 'java','c','c++'] } \n",
    "\n",
    "# by adding list in dictonary \n",
    "print(lang2)\n"
   ]
  },
  {
   "cell_type": "code",
   "execution_count": 20,
   "id": "7093627d",
   "metadata": {},
   "outputs": [
    {
     "name": "stdout",
     "output_type": "stream",
     "text": [
      "{' teacher': 25, 'student in cse ': 200, 'student in mech ': 80, 'student in ece ': 100}\n",
      "{' teacher': 25, 'student in cse ': 200, 'student in mech ': 80, 'student in ece ': 100}\n",
      "{' teacher': 25, 'student in cse ': 200, 'student in mech ': 80, 'student in ece ': 100}\n",
      "{' teacher': 25, 'student in cse ': 200, 'student in mech ': 80, 'student in ece ': 100}\n"
     ]
    }
   ],
   "source": [
    "# access the value of dictonary \n",
    "# basic counting of college staff and student by using access method\n",
    "\n",
    "maturam = { ' teacher': 25 ,\n",
    "           'student in cse ': 200 ,\n",
    "           'student in mech ': 80 ,\n",
    "           'student in ece ': 100}     # ther are some sample data of a college \n",
    "# access the value by using key \n",
    "father = maturam\n",
    "for index, mark in enumerate (maturam , start= 1):\n",
    " print(father)"
   ]
  },
  {
   "cell_type": "code",
   "execution_count": 1,
   "id": "898c4304",
   "metadata": {},
   "outputs": [
    {
     "name": "stdout",
     "output_type": "stream",
     "text": [
      "B\n"
     ]
    }
   ],
   "source": [
    "# short hand if else statement \n",
    "a= 389\n",
    "b= 560\n",
    "print(\"A\") if a > b else print (\"=\") if a==b else print(\"B\")"
   ]
  },
  {
   "cell_type": "code",
   "execution_count": 24,
   "id": "dbbfbc4b",
   "metadata": {},
   "outputs": [
    {
     "name": "stdout",
     "output_type": "stream",
     "text": [
      "20\n",
      "37\n",
      "82\n",
      "index found\n",
      "18\n",
      "11\n",
      "9\n",
      "99\n"
     ]
    }
   ],
   "source": [
    " # enumerate function \n",
    "student = [20 ,37,82,18,11,9 , 99]\n",
    "\n",
    "for index, mark in enumerate( student , start= 1) :\n",
    "    print(mark)\n",
    "    if ( index ==3 ):\n",
    "        print (\"index found\")\n",
    "\n"
   ]
  },
  {
   "cell_type": "code",
   "execution_count": 16,
   "id": "8b0153e9",
   "metadata": {},
   "outputs": [
    {
     "name": "stdout",
     "output_type": "stream",
     "text": [
      "171.42857142857142\n"
     ]
    }
   ],
   "source": [
    "# function in python\n",
    "def calculategemean(a,b): \n",
    "    mean= ( a*b)/(a+b)\n",
    "    print(mean)\n",
    "def isgreater(a,b):   \n",
    "    if(a>b):\n",
    "     print(\" Frist number is greater \")\n",
    "    else :\n",
    "     print( \" Second number is greater\")  \n",
    "def isgreater(a,b):\n",
    " a= 300 \n",
    " b = 400\n",
    "calculategemean(a,b)"
   ]
  },
  {
   "cell_type": "code",
   "execution_count": 1,
   "id": "55ba284a",
   "metadata": {},
   "outputs": [],
   "source": [
    "import numpy as np \n",
    "import pandas as pd \n"
   ]
  },
  {
   "cell_type": "code",
   "execution_count": 3,
   "id": "37f64c71",
   "metadata": {},
   "outputs": [
    {
     "name": "stdout",
     "output_type": "stream",
     "text": [
      "         name   marks       address\n",
      "0      tarun       80      kansala \n",
      "1   deepanshu      77  tilak nagar \n",
      "2     tushar       67       sec 14 \n",
      "3     granth       75      khrkhoda\n"
     ]
    }
   ],
   "source": [
    "import numpy as np \n",
    "import pandas as pd \n",
    "school = { \n",
    "    \"name\" : [ \" tarun \" , \" deepanshu\" , \" tushar \", \" granth \"] ,\n",
    "    \" marks\" : [ 80 , 77, 67, 75 ],\n",
    "    \" address\" : [ \"kansala \", \"tilak nagar \", \"sec 14 \", \"khrkhoda\"]\n",
    "           \n",
    "}\n",
    "df=pd.DataFrame(school)\n"
   ]
  },
  {
   "cell_type": "code",
   "execution_count": 2,
   "id": "7619a6ad",
   "metadata": {},
   "outputs": [
    {
     "ename": "AttributeError",
     "evalue": "module 'pandas' has no attribute 'head'",
     "output_type": "error",
     "traceback": [
      "\u001b[1;31m---------------------------------------------------------------------------\u001b[0m",
      "\u001b[1;31mAttributeError\u001b[0m                            Traceback (most recent call last)",
      "Cell \u001b[1;32mIn[2], line 6\u001b[0m\n\u001b[0;32m      4\u001b[0m tarun \u001b[38;5;241m=\u001b[39m pd\u001b[38;5;241m.\u001b[39mread_csv(\u001b[38;5;124m'\u001b[39m\u001b[38;5;124mdata.csv\u001b[39m\u001b[38;5;124m'\u001b[39m)  \u001b[38;5;66;03m# to read data \u001b[39;00m\n\u001b[0;32m      5\u001b[0m tarun[\u001b[38;5;124m'\u001b[39m\u001b[38;5;124mOrder ID\u001b[39m\u001b[38;5;124m'\u001b[39m] \u001b[38;5;66;03m# print the order id from the \u001b[39;00m\n\u001b[1;32m----> 6\u001b[0m \u001b[43mpd\u001b[49m\u001b[38;5;241;43m.\u001b[39;49m\u001b[43mhead\u001b[49m(\u001b[38;5;241m10\u001b[39m)\n\u001b[0;32m      7\u001b[0m pd\u001b[38;5;241m.\u001b[39mtail(\u001b[38;5;241m10\u001b[39m)\n",
      "\u001b[1;31mAttributeError\u001b[0m: module 'pandas' has no attribute 'head'"
     ]
    }
   ],
   "source": [
    "# read csv file from our computer \n",
    "import pandas as pd \n",
    "import numpy as np\n",
    "tarun = pd.read_csv('data.csv')  # to read data \n",
    "tarun['Order ID'] # print the order id from the \n",
    "pd.head(10)\n",
    "pd.tail(10)\n",
    "\n",
    "\n"
   ]
  },
  {
   "cell_type": "code",
   "execution_count": 26,
   "id": "16b66ae7",
   "metadata": {},
   "outputs": [
    {
     "data": {
      "text/html": [
       "<div>\n",
       "<style scoped>\n",
       "    .dataframe tbody tr th:only-of-type {\n",
       "        vertical-align: middle;\n",
       "    }\n",
       "\n",
       "    .dataframe tbody tr th {\n",
       "        vertical-align: top;\n",
       "    }\n",
       "\n",
       "    .dataframe thead th {\n",
       "        text-align: right;\n",
       "    }\n",
       "</style>\n",
       "<table border=\"1\" class=\"dataframe\">\n",
       "  <thead>\n",
       "    <tr style=\"text-align: right;\">\n",
       "      <th></th>\n",
       "      <th>Order ID</th>\n",
       "      <th>Order Date</th>\n",
       "      <th>Ship Date</th>\n",
       "      <th>EmailID</th>\n",
       "      <th>Geography</th>\n",
       "      <th>Category</th>\n",
       "      <th>Product Name</th>\n",
       "      <th>Sales</th>\n",
       "      <th>Quantity</th>\n",
       "      <th>Profit</th>\n",
       "    </tr>\n",
       "  </thead>\n",
       "  <tbody>\n",
       "    <tr>\n",
       "      <th>3202</th>\n",
       "      <td>CA-2014-119914</td>\n",
       "      <td>05-05-2014</td>\n",
       "      <td>10-05-2014</td>\n",
       "      <td>ChrisCortes@gmail.com</td>\n",
       "      <td>United States,Westminster,California</td>\n",
       "      <td>Appliances</td>\n",
       "      <td>Acco 7-Outlet Masterpiece Power Center, Wihtou...</td>\n",
       "      <td>243.16</td>\n",
       "      <td>2</td>\n",
       "      <td>72.95</td>\n",
       "    </tr>\n",
       "    <tr>\n",
       "      <th>3201</th>\n",
       "      <td>CA-2014-121258</td>\n",
       "      <td>27-02-2014</td>\n",
       "      <td>04-03-2014</td>\n",
       "      <td>DaveBrooks@gmail.com</td>\n",
       "      <td>United States,Costa Mesa,California</td>\n",
       "      <td>Paper</td>\n",
       "      <td>It's Hot Message Books with Stickers, 2 3/4\" x 5\"</td>\n",
       "      <td>29.60</td>\n",
       "      <td>4</td>\n",
       "      <td>13.32</td>\n",
       "    </tr>\n",
       "    <tr>\n",
       "      <th>3200</th>\n",
       "      <td>CA-2014-121258</td>\n",
       "      <td>27-02-2014</td>\n",
       "      <td>04-03-2014</td>\n",
       "      <td>DaveBrooks@gmail.com</td>\n",
       "      <td>United States,Costa Mesa,California</td>\n",
       "      <td>Phones</td>\n",
       "      <td>Aastra 57i VoIP phone</td>\n",
       "      <td>258.58</td>\n",
       "      <td>2</td>\n",
       "      <td>19.39</td>\n",
       "    </tr>\n",
       "    <tr>\n",
       "      <th>3199</th>\n",
       "      <td>CA-2014-121258</td>\n",
       "      <td>27-02-2014</td>\n",
       "      <td>04-03-2014</td>\n",
       "      <td>DaveBrooks@gmail.com</td>\n",
       "      <td>United States,Costa Mesa,California</td>\n",
       "      <td>Furnishings</td>\n",
       "      <td>Tenex B1-RE Series Chair Mats for Low Pile Car...</td>\n",
       "      <td>91.96</td>\n",
       "      <td>2</td>\n",
       "      <td>15.63</td>\n",
       "    </tr>\n",
       "    <tr>\n",
       "      <th>3198</th>\n",
       "      <td>CA-2013-125794</td>\n",
       "      <td>30-09-2013</td>\n",
       "      <td>04-10-2013</td>\n",
       "      <td>MarisLaWare@gmail.com</td>\n",
       "      <td>United States,Los Angeles,California</td>\n",
       "      <td>Accessories</td>\n",
       "      <td>Memorex Mini Travel Drive 64 GB USB 2.0 Flash ...</td>\n",
       "      <td>36.24</td>\n",
       "      <td>1</td>\n",
       "      <td>15.22</td>\n",
       "    </tr>\n",
       "    <tr>\n",
       "      <th>...</th>\n",
       "      <td>...</td>\n",
       "      <td>...</td>\n",
       "      <td>...</td>\n",
       "      <td>...</td>\n",
       "      <td>...</td>\n",
       "      <td>...</td>\n",
       "      <td>...</td>\n",
       "      <td>...</td>\n",
       "      <td>...</td>\n",
       "      <td>...</td>\n",
       "    </tr>\n",
       "    <tr>\n",
       "      <th>4</th>\n",
       "      <td>CA-2011-115812</td>\n",
       "      <td>09-06-2011</td>\n",
       "      <td>14-06-2011</td>\n",
       "      <td>BrosinaHoffman@gmail.com</td>\n",
       "      <td>United States,Los Angeles,California</td>\n",
       "      <td>Binders</td>\n",
       "      <td>DXL Angle-View Binders with Locking Rings by S...</td>\n",
       "      <td>18.50</td>\n",
       "      <td>3</td>\n",
       "      <td>5.78</td>\n",
       "    </tr>\n",
       "    <tr>\n",
       "      <th>3</th>\n",
       "      <td>CA-2011-115812</td>\n",
       "      <td>09-06-2011</td>\n",
       "      <td>14-06-2011</td>\n",
       "      <td>BrosinaHoffman@gmail.com</td>\n",
       "      <td>United States,Los Angeles,California</td>\n",
       "      <td>Phones</td>\n",
       "      <td>Mitel 5320 IP Phone VoIP phone</td>\n",
       "      <td>907.15</td>\n",
       "      <td>4</td>\n",
       "      <td>90.72</td>\n",
       "    </tr>\n",
       "    <tr>\n",
       "      <th>2</th>\n",
       "      <td>CA-2011-115812</td>\n",
       "      <td>09-06-2011</td>\n",
       "      <td>14-06-2011</td>\n",
       "      <td>BrosinaHoffman@gmail.com</td>\n",
       "      <td>United States,Los Angeles,California</td>\n",
       "      <td>Art</td>\n",
       "      <td>Newell 322</td>\n",
       "      <td>7.28</td>\n",
       "      <td>4</td>\n",
       "      <td>1.97</td>\n",
       "    </tr>\n",
       "    <tr>\n",
       "      <th>1</th>\n",
       "      <td>CA-2011-115812</td>\n",
       "      <td>09-06-2011</td>\n",
       "      <td>14-06-2011</td>\n",
       "      <td>BrosinaHoffman@gmail.com</td>\n",
       "      <td>United States,Los Angeles,California</td>\n",
       "      <td>Furnishings</td>\n",
       "      <td>Eldon Expressions Wood and Plastic Desk Access...</td>\n",
       "      <td>48.86</td>\n",
       "      <td>7</td>\n",
       "      <td>14.17</td>\n",
       "    </tr>\n",
       "    <tr>\n",
       "      <th>0</th>\n",
       "      <td>CA-2013-138688</td>\n",
       "      <td>13-06-2013</td>\n",
       "      <td>17-06-2013</td>\n",
       "      <td>DarrinVanHuff@gmail.com</td>\n",
       "      <td>United States,Los Angeles,California</td>\n",
       "      <td>Labels</td>\n",
       "      <td>Self-Adhesive Address Labels for Typewriters b...</td>\n",
       "      <td>14.62</td>\n",
       "      <td>2</td>\n",
       "      <td>6.87</td>\n",
       "    </tr>\n",
       "  </tbody>\n",
       "</table>\n",
       "<p>3203 rows × 10 columns</p>\n",
       "</div>"
      ],
      "text/plain": [
       "            Order ID  Order Date   Ship Date                   EmailID  \\\n",
       "3202  CA-2014-119914  05-05-2014  10-05-2014     ChrisCortes@gmail.com   \n",
       "3201  CA-2014-121258  27-02-2014  04-03-2014      DaveBrooks@gmail.com   \n",
       "3200  CA-2014-121258  27-02-2014  04-03-2014      DaveBrooks@gmail.com   \n",
       "3199  CA-2014-121258  27-02-2014  04-03-2014      DaveBrooks@gmail.com   \n",
       "3198  CA-2013-125794  30-09-2013  04-10-2013     MarisLaWare@gmail.com   \n",
       "...              ...         ...         ...                       ...   \n",
       "4     CA-2011-115812  09-06-2011  14-06-2011  BrosinaHoffman@gmail.com   \n",
       "3     CA-2011-115812  09-06-2011  14-06-2011  BrosinaHoffman@gmail.com   \n",
       "2     CA-2011-115812  09-06-2011  14-06-2011  BrosinaHoffman@gmail.com   \n",
       "1     CA-2011-115812  09-06-2011  14-06-2011  BrosinaHoffman@gmail.com   \n",
       "0     CA-2013-138688  13-06-2013  17-06-2013   DarrinVanHuff@gmail.com   \n",
       "\n",
       "                                 Geography     Category  \\\n",
       "3202  United States,Westminster,California   Appliances   \n",
       "3201   United States,Costa Mesa,California        Paper   \n",
       "3200   United States,Costa Mesa,California       Phones   \n",
       "3199   United States,Costa Mesa,California  Furnishings   \n",
       "3198  United States,Los Angeles,California  Accessories   \n",
       "...                                    ...          ...   \n",
       "4     United States,Los Angeles,California      Binders   \n",
       "3     United States,Los Angeles,California       Phones   \n",
       "2     United States,Los Angeles,California          Art   \n",
       "1     United States,Los Angeles,California  Furnishings   \n",
       "0     United States,Los Angeles,California       Labels   \n",
       "\n",
       "                                           Product Name   Sales  Quantity  \\\n",
       "3202  Acco 7-Outlet Masterpiece Power Center, Wihtou...  243.16         2   \n",
       "3201  It's Hot Message Books with Stickers, 2 3/4\" x 5\"   29.60         4   \n",
       "3200                              Aastra 57i VoIP phone  258.58         2   \n",
       "3199  Tenex B1-RE Series Chair Mats for Low Pile Car...   91.96         2   \n",
       "3198  Memorex Mini Travel Drive 64 GB USB 2.0 Flash ...   36.24         1   \n",
       "...                                                 ...     ...       ...   \n",
       "4     DXL Angle-View Binders with Locking Rings by S...   18.50         3   \n",
       "3                        Mitel 5320 IP Phone VoIP phone  907.15         4   \n",
       "2                                            Newell 322    7.28         4   \n",
       "1     Eldon Expressions Wood and Plastic Desk Access...   48.86         7   \n",
       "0     Self-Adhesive Address Labels for Typewriters b...   14.62         2   \n",
       "\n",
       "      Profit  \n",
       "3202   72.95  \n",
       "3201   13.32  \n",
       "3200   19.39  \n",
       "3199   15.63  \n",
       "3198   15.22  \n",
       "...      ...  \n",
       "4       5.78  \n",
       "3      90.72  \n",
       "2       1.97  \n",
       "1      14.17  \n",
       "0       6.87  \n",
       "\n",
       "[3203 rows x 10 columns]"
      ]
     },
     "execution_count": 26,
     "metadata": {},
     "output_type": "execute_result"
    }
   ],
   "source": [
    "import pandas as pd\n",
    "import numpy as np \n",
    "data=pd.read_csv('data.csv')\n",
    "df=pd.DataFrame(data)\n",
    "data\n",
    "df.tail(20) # to print the last 20 rows from data \n",
    "df.describe# to find the mean mode median of all the given data \n",
    "df.dtypes # use to print the total no of data types which are used in given data \n",
    "df.index # use to count the total no of items or rows into the data \n",
    "df.columns # use to count the total no of items or columns into the data\n",
    "df.to_numpy() # use to convert dataframe to numpy array\n",
    "df.T  # use to transform the data \n",
    "df.sort_index(axis=0, ascending= False) # use to reverse sort\n",
    "# here axis=0 is known as rows \n",
    "# and axis =1 ia kmown as column \n",
    " \n",
    "\n"
   ]
  },
  {
   "cell_type": "code",
   "execution_count": null,
   "id": "cbf8ede9",
   "metadata": {},
   "outputs": [],
   "source": []
  }
 ],
 "metadata": {
  "kernelspec": {
   "display_name": "Python 3 (ipykernel)",
   "language": "python",
   "name": "python3"
  },
  "language_info": {
   "codemirror_mode": {
    "name": "ipython",
    "version": 3
   },
   "file_extension": ".py",
   "mimetype": "text/x-python",
   "name": "python",
   "nbconvert_exporter": "python",
   "pygments_lexer": "ipython3",
   "version": "3.11.3"
  }
 },
 "nbformat": 4,
 "nbformat_minor": 5
}
